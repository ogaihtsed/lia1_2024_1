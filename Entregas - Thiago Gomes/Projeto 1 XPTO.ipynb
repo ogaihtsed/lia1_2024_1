{
 "cells": [
  {
   "cell_type": "code",
   "execution_count": null,
   "id": "5208cee3-e9af-455a-8299-6fc45ae3cffe",
   "metadata": {},
   "outputs": [],
   "source": [
    "# Qual o tipo do (?) -> Inteiro\n",
    "type(5)\n"
   ]
  },
  {
   "cell_type": "code",
   "execution_count": null,
   "id": "b1e130cd-654c-4e9e-af31-a3264ea91df4",
   "metadata": {},
   "outputs": [],
   "source": [
    "\n",
    "# Qual o tipo do (?) -> Float - Decimal\n",
    "type(5.0)\n"
   ]
  },
  {
   "cell_type": "code",
   "execution_count": null,
   "id": "a26a42e1-4975-44c3-b54d-0815afa90cd5",
   "metadata": {},
   "outputs": [],
   "source": [
    "\n",
    "# Condicional if (Se)\n",
    "if 5 > 2:\n",
    "    print(\"A sentença é verdadeira!\")\n"
   ]
  },
  {
   "cell_type": "code",
   "execution_count": null,
   "id": "403bdfc1-2bf0-4392-92fd-f736d49955dc",
   "metadata": {},
   "outputs": [],
   "source": [
    "# Condicional if...else\n",
    "if 5 < 2:\n",
    "    print(\"A sentença é verdadeira!\")\n",
    "else:\n",
    "    print(\"A sentença é falsa!\")"
   ]
  },
  {
   "cell_type": "code",
   "execution_count": null,
   "id": "b86b1840-8744-4758-976e-da2767971b5c",
   "metadata": {},
   "outputs": [],
   "source": [
    "Lendo arquivos (.txt)"
   ]
  },
  {
   "cell_type": "code",
   "execution_count": null,
   "id": "c168c074-dde3-4bdd-8f94-c6f45bea42a7",
   "metadata": {},
   "outputs": [],
   "source": [
    "# Abrindo o arquivo para leitura\n",
    "a1 = open(\"arquivos/arquivo1.txt\", \"r\")\n",
    "\n",
    "# Lendo o arquivo\n",
    "print(a1.read())"
   ]
  },
  {
   "cell_type": "code",
   "execution_count": null,
   "id": "591878fe-61db-4b43-8f64-7cab01682375",
   "metadata": {},
   "outputs": [],
   "source": [
    "Gravando arquivos (.txt)"
   ]
  },
  {
   "cell_type": "code",
   "execution_count": null,
   "id": "bba6f4c5-bed9-47b1-bdc1-69f03ecacffb",
   "metadata": {},
   "outputs": [],
   "source": [
    "\n",
    "# Abrindo o arquivo para gravação\n",
    "a2 = open(\"arquivos/arquivo2.txt\", \"w\")"
   ]
  },
  {
   "cell_type": "code",
   "execution_count": null,
   "id": "69879699-918f-46da-970a-6d28c040c5a8",
   "metadata": {},
   "outputs": [],
   "source": []
  }
 ],
 "metadata": {
  "kernelspec": {
   "display_name": "Python 3 (ipykernel)",
   "language": "python",
   "name": "python3"
  },
  "language_info": {
   "codemirror_mode": {
    "name": "ipython",
    "version": 3
   },
   "file_extension": ".py",
   "mimetype": "text/x-python",
   "name": "python",
   "nbconvert_exporter": "python",
   "pygments_lexer": "ipython3",
   "version": "3.11.7"
  }
 },
 "nbformat": 4,
 "nbformat_minor": 5
}
