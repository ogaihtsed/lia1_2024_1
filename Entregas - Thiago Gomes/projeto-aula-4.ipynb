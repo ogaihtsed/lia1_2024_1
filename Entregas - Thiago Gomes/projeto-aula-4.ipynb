{
 "cells": [
  {
   "cell_type": "markdown",
   "id": "50365b77",
   "metadata": {
    "execution": {
     "iopub.execute_input": "2024-03-27T13:30:00.711089Z",
     "iopub.status.busy": "2024-03-27T13:30:00.709849Z",
     "iopub.status.idle": "2024-03-27T13:30:00.718955Z",
     "shell.execute_reply": "2024-03-27T13:30:00.717217Z",
     "shell.execute_reply.started": "2024-03-27T13:30:00.711028Z"
    },
    "papermill": {
     "duration": 0.011211,
     "end_time": "2024-04-01T12:08:10.312788",
     "exception": false,
     "start_time": "2024-04-01T12:08:10.301577",
     "status": "completed"
    },
    "tags": []
   },
   "source": [
    "<hr style=\"height:10px\"> \n",
    " \n",
    "<div class='container2'>\n",
    "\t\t<div>\n",
    "\t\t\t<img src='https://upload.wikimedia.org/wikipedia/commons/7/79/Marca_da_UFG.png' ALIGN='left' style='width:10em'>\n",
    "\t\t</div>\t\n",
    "\t<div style='padding: 0 7em 2em 12em;'>\n",
    "\t<h1>Laboratório de Inovação e Automação 1 (LIA 1)</h1>\n",
    "\t<div style=\"font-size:12pt;float:left;\"> 2024/1 | 24M34 | Sala 200 CAE</div><br><br>\n",
    "    <div style=\"font-size:12pt;float:left;\"><b>Projetos de Inteligência Artificial</b></div>\n",
    "\t</div>\n",
    "</div>\n",
    "\n",
    "\n",
    " <hr style=\"height:5px\"> \n",
    "\n",
    "    \n",
    "<h2>Introdução ao Ambiente de Projetos - Python</h2>\n",
    "\n",
    "Notebook desenvolvido por: <a href=\"http://lattes.cnpq.br/1346824250595330\">Prof. Dr. Adriano C. Santana</a>\n",
    "\n",
    " <hr style=\"height:2px\"> \n"
   ]
  },
  {
   "cell_type": "markdown",
   "id": "37f765d5",
   "metadata": {
    "papermill": {
     "duration": 0.010314,
     "end_time": "2024-04-01T12:08:10.333941",
     "exception": false,
     "start_time": "2024-04-01T12:08:10.323627",
     "status": "completed"
    },
    "tags": []
   },
   "source": [
    "[Tudo sobre o Python, clique aqui!](https://docs.python.org/pt-br/3/tutorial/)"
   ]
  },
  {
   "cell_type": "code",
   "execution_count": null,
   "id": "47c941f2",
   "metadata": {
    "papermill": {
     "duration": 0.009547,
     "end_time": "2024-04-01T12:08:10.354050",
     "exception": false,
     "start_time": "2024-04-01T12:08:10.344503",
     "status": "completed"
    },
    "tags": []
   },
   "outputs": [],
   "source": []
  },
  {
   "cell_type": "code",
   "execution_count": 1,
   "id": "204b5a13",
   "metadata": {
    "execution": {
     "iopub.execute_input": "2024-04-01T12:08:10.376989Z",
     "iopub.status.busy": "2024-04-01T12:08:10.375917Z",
     "iopub.status.idle": "2024-04-01T12:08:10.392475Z",
     "shell.execute_reply": "2024-04-01T12:08:10.391355Z"
    },
    "papermill": {
     "duration": 0.031296,
     "end_time": "2024-04-01T12:08:10.395303",
     "exception": false,
     "start_time": "2024-04-01T12:08:10.364007",
     "status": "completed"
    },
    "tags": []
   },
   "outputs": [
    {
     "name": "stdout",
     "output_type": "stream",
     "text": [
      "A versão em uso é 3.10.13.\n"
     ]
    }
   ],
   "source": [
    "from platform import python_version\n",
    "print(f'A versão em uso é {python_version()}.')"
   ]
  },
  {
   "cell_type": "code",
   "execution_count": 2,
   "id": "a2dbd081",
   "metadata": {
    "execution": {
     "iopub.execute_input": "2024-04-01T12:08:10.418868Z",
     "iopub.status.busy": "2024-04-01T12:08:10.418010Z",
     "iopub.status.idle": "2024-04-01T12:08:10.427173Z",
     "shell.execute_reply": "2024-04-01T12:08:10.425712Z"
    },
    "papermill": {
     "duration": 0.024472,
     "end_time": "2024-04-01T12:08:10.430359",
     "exception": false,
     "start_time": "2024-04-01T12:08:10.405887",
     "status": "completed"
    },
    "tags": []
   },
   "outputs": [
    {
     "data": {
      "text/plain": [
       "'3.10.13'"
      ]
     },
     "execution_count": 2,
     "metadata": {},
     "output_type": "execute_result"
    }
   ],
   "source": [
    "python_version()"
   ]
  },
  {
   "cell_type": "code",
   "execution_count": 3,
   "id": "e0f862af",
   "metadata": {
    "execution": {
     "iopub.execute_input": "2024-04-01T12:08:10.453846Z",
     "iopub.status.busy": "2024-04-01T12:08:10.453330Z",
     "iopub.status.idle": "2024-04-01T12:08:10.459525Z",
     "shell.execute_reply": "2024-04-01T12:08:10.458260Z"
    },
    "papermill": {
     "duration": 0.021982,
     "end_time": "2024-04-01T12:08:10.463312",
     "exception": false,
     "start_time": "2024-04-01T12:08:10.441330",
     "status": "completed"
    },
    "tags": []
   },
   "outputs": [
    {
     "name": "stdout",
     "output_type": "stream",
     "text": [
      "Bye bye, World!\n"
     ]
    }
   ],
   "source": [
    "# Verificar se o Python está funcionando\n",
    "print('Bye bye, World!')"
   ]
  },
  {
   "cell_type": "markdown",
   "id": "0d6bd5d1",
   "metadata": {
    "papermill": {
     "duration": 0.01016,
     "end_time": "2024-04-01T12:08:10.483808",
     "exception": false,
     "start_time": "2024-04-01T12:08:10.473648",
     "status": "completed"
    },
    "tags": []
   },
   "source": [
    "#### Operadores Aritméticos"
   ]
  },
  {
   "cell_type": "code",
   "execution_count": 4,
   "id": "c4c4d923",
   "metadata": {
    "execution": {
     "iopub.execute_input": "2024-04-01T12:08:10.507967Z",
     "iopub.status.busy": "2024-04-01T12:08:10.507451Z",
     "iopub.status.idle": "2024-04-01T12:08:10.515703Z",
     "shell.execute_reply": "2024-04-01T12:08:10.514384Z"
    },
    "papermill": {
     "duration": 0.024201,
     "end_time": "2024-04-01T12:08:10.518311",
     "exception": false,
     "start_time": "2024-04-01T12:08:10.494110",
     "status": "completed"
    },
    "tags": []
   },
   "outputs": [
    {
     "data": {
      "text/plain": [
       "2"
      ]
     },
     "execution_count": 4,
     "metadata": {},
     "output_type": "execute_result"
    }
   ],
   "source": [
    "# Adição\n",
    "1 + 1"
   ]
  },
  {
   "cell_type": "code",
   "execution_count": 5,
   "id": "1d590e76",
   "metadata": {
    "execution": {
     "iopub.execute_input": "2024-04-01T12:08:10.542897Z",
     "iopub.status.busy": "2024-04-01T12:08:10.541574Z",
     "iopub.status.idle": "2024-04-01T12:08:10.549153Z",
     "shell.execute_reply": "2024-04-01T12:08:10.548168Z"
    },
    "papermill": {
     "duration": 0.022889,
     "end_time": "2024-04-01T12:08:10.551815",
     "exception": false,
     "start_time": "2024-04-01T12:08:10.528926",
     "status": "completed"
    },
    "tags": []
   },
   "outputs": [
    {
     "data": {
      "text/plain": [
       "1"
      ]
     },
     "execution_count": 5,
     "metadata": {},
     "output_type": "execute_result"
    }
   ],
   "source": [
    "# Subtração\n",
    "2 - 1"
   ]
  },
  {
   "cell_type": "code",
   "execution_count": 6,
   "id": "ef4ff1d4",
   "metadata": {
    "execution": {
     "iopub.execute_input": "2024-04-01T12:08:10.578233Z",
     "iopub.status.busy": "2024-04-01T12:08:10.576834Z",
     "iopub.status.idle": "2024-04-01T12:08:10.586715Z",
     "shell.execute_reply": "2024-04-01T12:08:10.585037Z"
    },
    "papermill": {
     "duration": 0.025705,
     "end_time": "2024-04-01T12:08:10.589626",
     "exception": false,
     "start_time": "2024-04-01T12:08:10.563921",
     "status": "completed"
    },
    "tags": []
   },
   "outputs": [
    {
     "data": {
      "text/plain": [
       "4"
      ]
     },
     "execution_count": 6,
     "metadata": {},
     "output_type": "execute_result"
    }
   ],
   "source": [
    "# Multiplicação\n",
    "2 * 2"
   ]
  },
  {
   "cell_type": "code",
   "execution_count": 7,
   "id": "e8e362f8",
   "metadata": {
    "execution": {
     "iopub.execute_input": "2024-04-01T12:08:10.613741Z",
     "iopub.status.busy": "2024-04-01T12:08:10.613189Z",
     "iopub.status.idle": "2024-04-01T12:08:10.622618Z",
     "shell.execute_reply": "2024-04-01T12:08:10.620962Z"
    },
    "papermill": {
     "duration": 0.025501,
     "end_time": "2024-04-01T12:08:10.626066",
     "exception": false,
     "start_time": "2024-04-01T12:08:10.600565",
     "status": "completed"
    },
    "tags": []
   },
   "outputs": [
    {
     "data": {
      "text/plain": [
       "1.5"
      ]
     },
     "execution_count": 7,
     "metadata": {},
     "output_type": "execute_result"
    }
   ],
   "source": [
    "# Divisão\n",
    "3 / 2"
   ]
  },
  {
   "cell_type": "code",
   "execution_count": 8,
   "id": "3d6ac22a",
   "metadata": {
    "execution": {
     "iopub.execute_input": "2024-04-01T12:08:10.653279Z",
     "iopub.status.busy": "2024-04-01T12:08:10.652785Z",
     "iopub.status.idle": "2024-04-01T12:08:10.661431Z",
     "shell.execute_reply": "2024-04-01T12:08:10.660063Z"
    },
    "papermill": {
     "duration": 0.026836,
     "end_time": "2024-04-01T12:08:10.664582",
     "exception": false,
     "start_time": "2024-04-01T12:08:10.637746",
     "status": "completed"
    },
    "tags": []
   },
   "outputs": [
    {
     "data": {
      "text/plain": [
       "16"
      ]
     },
     "execution_count": 8,
     "metadata": {},
     "output_type": "execute_result"
    }
   ],
   "source": [
    "# Potência\n",
    "4 ** 2"
   ]
  },
  {
   "cell_type": "code",
   "execution_count": 9,
   "id": "564f0027",
   "metadata": {
    "execution": {
     "iopub.execute_input": "2024-04-01T12:08:10.689598Z",
     "iopub.status.busy": "2024-04-01T12:08:10.689067Z",
     "iopub.status.idle": "2024-04-01T12:08:10.697260Z",
     "shell.execute_reply": "2024-04-01T12:08:10.695956Z"
    },
    "papermill": {
     "duration": 0.023929,
     "end_time": "2024-04-01T12:08:10.700107",
     "exception": false,
     "start_time": "2024-04-01T12:08:10.676178",
     "status": "completed"
    },
    "tags": []
   },
   "outputs": [
    {
     "data": {
      "text/plain": [
       "1"
      ]
     },
     "execution_count": 9,
     "metadata": {},
     "output_type": "execute_result"
    }
   ],
   "source": [
    "# Módulo (resto da divisão)\n",
    "10 % 3"
   ]
  },
  {
   "cell_type": "markdown",
   "id": "9838c228",
   "metadata": {
    "papermill": {
     "duration": 0.011056,
     "end_time": "2024-04-01T12:08:10.722557",
     "exception": false,
     "start_time": "2024-04-01T12:08:10.711501",
     "status": "completed"
    },
    "tags": []
   },
   "source": [
    "#### Tipo de Dados (Type)"
   ]
  },
  {
   "cell_type": "code",
   "execution_count": 10,
   "id": "3d37794a",
   "metadata": {
    "execution": {
     "iopub.execute_input": "2024-04-01T12:08:10.747087Z",
     "iopub.status.busy": "2024-04-01T12:08:10.746597Z",
     "iopub.status.idle": "2024-04-01T12:08:10.754423Z",
     "shell.execute_reply": "2024-04-01T12:08:10.753211Z"
    },
    "papermill": {
     "duration": 0.023101,
     "end_time": "2024-04-01T12:08:10.756947",
     "exception": false,
     "start_time": "2024-04-01T12:08:10.733846",
     "status": "completed"
    },
    "tags": []
   },
   "outputs": [
    {
     "data": {
      "text/plain": [
       "int"
      ]
     },
     "execution_count": 10,
     "metadata": {},
     "output_type": "execute_result"
    }
   ],
   "source": [
    "# Qual o tipo do (?) -> Inteiro\n",
    "type(5)"
   ]
  },
  {
   "cell_type": "code",
   "execution_count": 11,
   "id": "07a6e677",
   "metadata": {
    "execution": {
     "iopub.execute_input": "2024-04-01T12:08:10.782876Z",
     "iopub.status.busy": "2024-04-01T12:08:10.782332Z",
     "iopub.status.idle": "2024-04-01T12:08:10.790630Z",
     "shell.execute_reply": "2024-04-01T12:08:10.789076Z"
    },
    "papermill": {
     "duration": 0.024548,
     "end_time": "2024-04-01T12:08:10.793680",
     "exception": false,
     "start_time": "2024-04-01T12:08:10.769132",
     "status": "completed"
    },
    "tags": []
   },
   "outputs": [
    {
     "data": {
      "text/plain": [
       "float"
      ]
     },
     "execution_count": 11,
     "metadata": {},
     "output_type": "execute_result"
    }
   ],
   "source": [
    "# Qual o tipo do (?) -> Float - Decimal\n",
    "type(5.0)"
   ]
  },
  {
   "cell_type": "code",
   "execution_count": 12,
   "id": "e8928271",
   "metadata": {
    "execution": {
     "iopub.execute_input": "2024-04-01T12:08:10.820356Z",
     "iopub.status.busy": "2024-04-01T12:08:10.819377Z",
     "iopub.status.idle": "2024-04-01T12:08:10.827228Z",
     "shell.execute_reply": "2024-04-01T12:08:10.826145Z"
    },
    "papermill": {
     "duration": 0.024393,
     "end_time": "2024-04-01T12:08:10.829808",
     "exception": false,
     "start_time": "2024-04-01T12:08:10.805415",
     "status": "completed"
    },
    "tags": []
   },
   "outputs": [
    {
     "data": {
      "text/plain": [
       "str"
      ]
     },
     "execution_count": 12,
     "metadata": {},
     "output_type": "execute_result"
    }
   ],
   "source": [
    "# Qual o tipo do (?) -> String\n",
    "a = 'Estudando Python!'\n",
    "type(a)"
   ]
  },
  {
   "cell_type": "markdown",
   "id": "65a0147a",
   "metadata": {
    "papermill": {
     "duration": 0.011896,
     "end_time": "2024-04-01T12:08:10.853991",
     "exception": false,
     "start_time": "2024-04-01T12:08:10.842095",
     "status": "completed"
    },
    "tags": []
   },
   "source": [
    "#### Condicional if"
   ]
  },
  {
   "cell_type": "code",
   "execution_count": 13,
   "id": "ab8e4caa",
   "metadata": {
    "execution": {
     "iopub.execute_input": "2024-04-01T12:08:10.879765Z",
     "iopub.status.busy": "2024-04-01T12:08:10.879303Z",
     "iopub.status.idle": "2024-04-01T12:08:10.885334Z",
     "shell.execute_reply": "2024-04-01T12:08:10.884018Z"
    },
    "papermill": {
     "duration": 0.022436,
     "end_time": "2024-04-01T12:08:10.888286",
     "exception": false,
     "start_time": "2024-04-01T12:08:10.865850",
     "status": "completed"
    },
    "tags": []
   },
   "outputs": [
    {
     "name": "stdout",
     "output_type": "stream",
     "text": [
      "A sentença é verdadeira!\n"
     ]
    }
   ],
   "source": [
    "# Condicional if (Se)\n",
    "if 5 > 2:\n",
    "    print(\"A sentença é verdadeira!\")"
   ]
  },
  {
   "cell_type": "code",
   "execution_count": 14,
   "id": "801be5e1",
   "metadata": {
    "execution": {
     "iopub.execute_input": "2024-04-01T12:08:10.915871Z",
     "iopub.status.busy": "2024-04-01T12:08:10.915331Z",
     "iopub.status.idle": "2024-04-01T12:08:10.922448Z",
     "shell.execute_reply": "2024-04-01T12:08:10.920910Z"
    },
    "papermill": {
     "duration": 0.024363,
     "end_time": "2024-04-01T12:08:10.925601",
     "exception": false,
     "start_time": "2024-04-01T12:08:10.901238",
     "status": "completed"
    },
    "tags": []
   },
   "outputs": [
    {
     "name": "stdout",
     "output_type": "stream",
     "text": [
      "A sentença é falsa!\n"
     ]
    }
   ],
   "source": [
    "# Condicional if...else\n",
    "if 5 < 2:\n",
    "    print(\"A sentença é verdadeira!\")\n",
    "else:\n",
    "    print(\"A sentença é falsa!\")"
   ]
  },
  {
   "cell_type": "code",
   "execution_count": 15,
   "id": "c158f9bb",
   "metadata": {
    "execution": {
     "iopub.execute_input": "2024-04-01T12:08:10.952776Z",
     "iopub.status.busy": "2024-04-01T12:08:10.952269Z",
     "iopub.status.idle": "2024-04-01T12:08:10.959198Z",
     "shell.execute_reply": "2024-04-01T12:08:10.957825Z"
    },
    "papermill": {
     "duration": 0.023649,
     "end_time": "2024-04-01T12:08:10.961958",
     "exception": false,
     "start_time": "2024-04-01T12:08:10.938309",
     "status": "completed"
    },
    "tags": []
   },
   "outputs": [
    {
     "name": "stdout",
     "output_type": "stream",
     "text": [
      "Hoje vai chover!\n"
     ]
    }
   ],
   "source": [
    "# Condicional if...else com variável\n",
    "dia = \"Quarta-feira\"\n",
    "if dia == \"Sexta-feira\":\n",
    "    print(\"Hoje fará sol!\")\n",
    "else:\n",
    "    print(\"Hoje vai chover!\")"
   ]
  },
  {
   "cell_type": "markdown",
   "id": "7b2ae873",
   "metadata": {
    "papermill": {
     "duration": 0.012598,
     "end_time": "2024-04-01T12:08:10.989563",
     "exception": false,
     "start_time": "2024-04-01T12:08:10.976965",
     "status": "completed"
    },
    "tags": []
   },
   "source": [
    "#### Manipulando arquivos"
   ]
  },
  {
   "cell_type": "markdown",
   "id": "6c997f50",
   "metadata": {
    "papermill": {
     "duration": 0.012986,
     "end_time": "2024-04-01T12:08:11.016448",
     "exception": false,
     "start_time": "2024-04-01T12:08:11.003462",
     "status": "completed"
    },
    "tags": []
   },
   "source": [
    "#### Lendo arquivos (.txt)"
   ]
  },
  {
   "cell_type": "code",
   "execution_count": 16,
   "id": "62c5ac65",
   "metadata": {
    "execution": {
     "iopub.execute_input": "2024-04-01T12:08:11.043535Z",
     "iopub.status.busy": "2024-04-01T12:08:11.042994Z",
     "iopub.status.idle": "2024-04-01T12:08:11.052614Z",
     "shell.execute_reply": "2024-04-01T12:08:11.051551Z"
    },
    "papermill": {
     "duration": 0.027097,
     "end_time": "2024-04-01T12:08:11.055837",
     "exception": false,
     "start_time": "2024-04-01T12:08:11.028740",
     "status": "completed"
    },
    "tags": []
   },
   "outputs": [],
   "source": [
    "# Abrindo o arquivo para leitura\n",
    "a1 = open(\"/kaggle/input/arquivo-aula-4/arquivo1.txt\", \"r\")"
   ]
  },
  {
   "cell_type": "code",
   "execution_count": 17,
   "id": "d03330ec",
   "metadata": {
    "execution": {
     "iopub.execute_input": "2024-04-01T12:08:11.086347Z",
     "iopub.status.busy": "2024-04-01T12:08:11.085754Z",
     "iopub.status.idle": "2024-04-01T12:08:11.092819Z",
     "shell.execute_reply": "2024-04-01T12:08:11.091573Z"
    },
    "papermill": {
     "duration": 0.023827,
     "end_time": "2024-04-01T12:08:11.095725",
     "exception": false,
     "start_time": "2024-04-01T12:08:11.071898",
     "status": "completed"
    },
    "tags": []
   },
   "outputs": [
    {
     "name": "stdout",
     "output_type": "stream",
     "text": [
      "Seja bem-vindo em LIA1 - 2024/1 - 25/03!\n"
     ]
    }
   ],
   "source": [
    "# Lendo o arquivo\n",
    "print(a1.read())"
   ]
  },
  {
   "cell_type": "markdown",
   "id": "ad54f35a",
   "metadata": {
    "papermill": {
     "duration": 0.012452,
     "end_time": "2024-04-01T12:08:11.120344",
     "exception": false,
     "start_time": "2024-04-01T12:08:11.107892",
     "status": "completed"
    },
    "tags": []
   },
   "source": [
    "#### Gravando arquivos (.txt)"
   ]
  },
  {
   "cell_type": "code",
   "execution_count": 18,
   "id": "35dceee4",
   "metadata": {
    "execution": {
     "iopub.execute_input": "2024-04-01T12:08:11.148149Z",
     "iopub.status.busy": "2024-04-01T12:08:11.147664Z",
     "iopub.status.idle": "2024-04-01T12:08:11.154407Z",
     "shell.execute_reply": "2024-04-01T12:08:11.152939Z"
    },
    "papermill": {
     "duration": 0.024781,
     "end_time": "2024-04-01T12:08:11.157414",
     "exception": false,
     "start_time": "2024-04-01T12:08:11.132633",
     "status": "completed"
    },
    "tags": []
   },
   "outputs": [],
   "source": [
    "# Abrindo o arquivo para gravação\n",
    "a2 = open(\"/kaggle/working/arquivo2.txt\", \"w\")"
   ]
  },
  {
   "cell_type": "code",
   "execution_count": 19,
   "id": "a6c5b315",
   "metadata": {
    "execution": {
     "iopub.execute_input": "2024-04-01T12:08:11.185160Z",
     "iopub.status.busy": "2024-04-01T12:08:11.184681Z",
     "iopub.status.idle": "2024-04-01T12:08:11.193494Z",
     "shell.execute_reply": "2024-04-01T12:08:11.192344Z"
    },
    "papermill": {
     "duration": 0.025873,
     "end_time": "2024-04-01T12:08:11.196188",
     "exception": false,
     "start_time": "2024-04-01T12:08:11.170315",
     "status": "completed"
    },
    "tags": []
   },
   "outputs": [
    {
     "data": {
      "text/plain": [
       "59"
      ]
     },
     "execution_count": 19,
     "metadata": {},
     "output_type": "execute_result"
    }
   ],
   "source": [
    "# Gravando no arquivo\n",
    "a2.write(\"Aprendendo Python em 2024/1 ao som de um cortador de grama!\")"
   ]
  },
  {
   "cell_type": "code",
   "execution_count": 20,
   "id": "2f15f673",
   "metadata": {
    "execution": {
     "iopub.execute_input": "2024-04-01T12:08:11.223942Z",
     "iopub.status.busy": "2024-04-01T12:08:11.223463Z",
     "iopub.status.idle": "2024-04-01T12:08:11.229827Z",
     "shell.execute_reply": "2024-04-01T12:08:11.228559Z"
    },
    "papermill": {
     "duration": 0.024018,
     "end_time": "2024-04-01T12:08:11.232932",
     "exception": false,
     "start_time": "2024-04-01T12:08:11.208914",
     "status": "completed"
    },
    "tags": []
   },
   "outputs": [],
   "source": [
    "# Abrindo o arquivo para leitura\n",
    "a2 = open(\"/kaggle/working/arquivo2.txt\", \"r\")"
   ]
  },
  {
   "cell_type": "code",
   "execution_count": 21,
   "id": "685498c4",
   "metadata": {
    "execution": {
     "iopub.execute_input": "2024-04-01T12:08:11.259999Z",
     "iopub.status.busy": "2024-04-01T12:08:11.259507Z",
     "iopub.status.idle": "2024-04-01T12:08:11.265721Z",
     "shell.execute_reply": "2024-04-01T12:08:11.264370Z"
    },
    "papermill": {
     "duration": 0.023745,
     "end_time": "2024-04-01T12:08:11.268887",
     "exception": false,
     "start_time": "2024-04-01T12:08:11.245142",
     "status": "completed"
    },
    "tags": []
   },
   "outputs": [
    {
     "name": "stdout",
     "output_type": "stream",
     "text": [
      "Aprendendo Python em 2024/1 ao som de um cortador de grama!\n"
     ]
    }
   ],
   "source": [
    "# Imprimindo arquivo\n",
    "print(a2.read())"
   ]
  },
  {
   "cell_type": "code",
   "execution_count": null,
   "id": "0cd27245",
   "metadata": {
    "papermill": {
     "duration": 0.012773,
     "end_time": "2024-04-01T12:08:11.294114",
     "exception": false,
     "start_time": "2024-04-01T12:08:11.281341",
     "status": "completed"
    },
    "tags": []
   },
   "outputs": [],
   "source": []
  }
 ],
 "metadata": {
  "kaggle": {
   "accelerator": "none",
   "dataSources": [
    {
     "datasetId": 4680269,
     "sourceId": 7957084,
     "sourceType": "datasetVersion"
    }
   ],
   "dockerImageVersionId": 30673,
   "isGpuEnabled": false,
   "isInternetEnabled": false,
   "language": "python",
   "sourceType": "notebook"
  },
  "kernelspec": {
   "display_name": "Python 3",
   "language": "python",
   "name": "python3"
  },
  "language_info": {
   "codemirror_mode": {
    "name": "ipython",
    "version": 3
   },
   "file_extension": ".py",
   "mimetype": "text/x-python",
   "name": "python",
   "nbconvert_exporter": "python",
   "pygments_lexer": "ipython3",
   "version": "3.10.13"
  },
  "papermill": {
   "default_parameters": {},
   "duration": 5.369268,
   "end_time": "2024-04-01T12:08:11.935225",
   "environment_variables": {},
   "exception": null,
   "input_path": "__notebook__.ipynb",
   "output_path": "__notebook__.ipynb",
   "parameters": {},
   "start_time": "2024-04-01T12:08:06.565957",
   "version": "2.5.0"
  }
 },
 "nbformat": 4,
 "nbformat_minor": 5
}
