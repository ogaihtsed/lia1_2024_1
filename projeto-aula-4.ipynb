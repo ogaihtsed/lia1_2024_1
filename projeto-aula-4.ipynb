{
 "cells": [
  {
   "cell_type": "markdown",
   "id": "e3c0bb98",
   "metadata": {
    "execution": {
     "iopub.execute_input": "2024-03-27T13:30:00.711089Z",
     "iopub.status.busy": "2024-03-27T13:30:00.709849Z",
     "iopub.status.idle": "2024-03-27T13:30:00.718955Z",
     "shell.execute_reply": "2024-03-27T13:30:00.717217Z",
     "shell.execute_reply.started": "2024-03-27T13:30:00.711028Z"
    },
    "papermill": {
     "duration": 0.008013,
     "end_time": "2024-04-01T12:06:29.718118",
     "exception": false,
     "start_time": "2024-04-01T12:06:29.710105",
     "status": "completed"
    },
    "tags": []
   },
   "source": [
    "<hr style=\"height:10px\"> \n",
    " \n",
    "<div class='container2'>\n",
    "\t\t<div>\n",
    "\t\t\t<img src='https://upload.wikimedia.org/wikipedia/commons/7/79/Marca_da_UFG.png' ALIGN='left' style='width:10em'>\n",
    "\t\t</div>\t\n",
    "\t<div style='padding: 0 7em 2em 12em;'>\n",
    "\t<h1>Laboratório de Inovação e Automação 1 (LIA 1)</h1>\n",
    "\t<div style=\"font-size:12pt;float:left;\"> 2024/1 | 24M34 | Sala 200 CAE</div><br><br>\n",
    "    <div style=\"font-size:12pt;float:left;\"><b>Projetos de Inteligência Artificial</b></div>\n",
    "\t</div>\n",
    "</div>\n",
    "\n",
    "\n",
    " <hr style=\"height:5px\"> \n",
    "\n",
    "    \n",
    "<h2>Introdução ao Ambiente de Projetos - Python</h2>\n",
    "\n",
    "Notebook desenvolvido por: <a href=\"http://lattes.cnpq.br/1346824250595330\">Prof. Dr. Adriano C. Santana</a>\n",
    "\n",
    " <hr style=\"height:2px\"> \n"
   ]
  },
  {
   "cell_type": "markdown",
   "id": "5c9b2f69",
   "metadata": {
    "papermill": {
     "duration": 0.006584,
     "end_time": "2024-04-01T12:06:29.732389",
     "exception": false,
     "start_time": "2024-04-01T12:06:29.725805",
     "status": "completed"
    },
    "tags": []
   },
   "source": [
    "[Tudo sobre o Python, clique aqui!](https://docs.python.org/pt-br/3/tutorial/)"
   ]
  },
  {
   "cell_type": "code",
   "execution_count": null,
   "id": "26fecf69",
   "metadata": {
    "papermill": {
     "duration": 0.006382,
     "end_time": "2024-04-01T12:06:29.745396",
     "exception": false,
     "start_time": "2024-04-01T12:06:29.739014",
     "status": "completed"
    },
    "tags": []
   },
   "outputs": [],
   "source": []
  },
  {
   "cell_type": "code",
   "execution_count": 1,
   "id": "a39e9b03",
   "metadata": {
    "execution": {
     "iopub.execute_input": "2024-04-01T12:06:29.761622Z",
     "iopub.status.busy": "2024-04-01T12:06:29.760780Z",
     "iopub.status.idle": "2024-04-01T12:06:29.774353Z",
     "shell.execute_reply": "2024-04-01T12:06:29.772860Z"
    },
    "papermill": {
     "duration": 0.02457,
     "end_time": "2024-04-01T12:06:29.776605",
     "exception": false,
     "start_time": "2024-04-01T12:06:29.752035",
     "status": "completed"
    },
    "tags": []
   },
   "outputs": [
    {
     "name": "stdout",
     "output_type": "stream",
     "text": [
      "A versão em uso é 3.10.13.\n"
     ]
    }
   ],
   "source": [
    "from platform import python_version\n",
    "print(f'A versão em uso é {python_version()}.')"
   ]
  },
  {
   "cell_type": "code",
   "execution_count": 2,
   "id": "a11c7d7e",
   "metadata": {
    "execution": {
     "iopub.execute_input": "2024-04-01T12:06:29.793052Z",
     "iopub.status.busy": "2024-04-01T12:06:29.791919Z",
     "iopub.status.idle": "2024-04-01T12:06:29.800277Z",
     "shell.execute_reply": "2024-04-01T12:06:29.799215Z"
    },
    "papermill": {
     "duration": 0.018938,
     "end_time": "2024-04-01T12:06:29.802534",
     "exception": false,
     "start_time": "2024-04-01T12:06:29.783596",
     "status": "completed"
    },
    "tags": []
   },
   "outputs": [
    {
     "data": {
      "text/plain": [
       "'3.10.13'"
      ]
     },
     "execution_count": 2,
     "metadata": {},
     "output_type": "execute_result"
    }
   ],
   "source": [
    "python_version()"
   ]
  },
  {
   "cell_type": "code",
   "execution_count": 3,
   "id": "c856bd7c",
   "metadata": {
    "execution": {
     "iopub.execute_input": "2024-04-01T12:06:29.819004Z",
     "iopub.status.busy": "2024-04-01T12:06:29.818262Z",
     "iopub.status.idle": "2024-04-01T12:06:29.824240Z",
     "shell.execute_reply": "2024-04-01T12:06:29.822887Z"
    },
    "papermill": {
     "duration": 0.016972,
     "end_time": "2024-04-01T12:06:29.826574",
     "exception": false,
     "start_time": "2024-04-01T12:06:29.809602",
     "status": "completed"
    },
    "tags": []
   },
   "outputs": [
    {
     "name": "stdout",
     "output_type": "stream",
     "text": [
      "Bye bye, World!\n"
     ]
    }
   ],
   "source": [
    "# Verificar se o Python está funcionando\n",
    "print('Bye bye, World!')"
   ]
  },
  {
   "cell_type": "markdown",
   "id": "668729a4",
   "metadata": {
    "papermill": {
     "duration": 0.006952,
     "end_time": "2024-04-01T12:06:29.840768",
     "exception": false,
     "start_time": "2024-04-01T12:06:29.833816",
     "status": "completed"
    },
    "tags": []
   },
   "source": [
    "#### Operadores Aritméticos"
   ]
  },
  {
   "cell_type": "code",
   "execution_count": 4,
   "id": "b1930f81",
   "metadata": {
    "execution": {
     "iopub.execute_input": "2024-04-01T12:06:29.858572Z",
     "iopub.status.busy": "2024-04-01T12:06:29.857831Z",
     "iopub.status.idle": "2024-04-01T12:06:29.863069Z",
     "shell.execute_reply": "2024-04-01T12:06:29.862344Z"
    },
    "papermill": {
     "duration": 0.016733,
     "end_time": "2024-04-01T12:06:29.864984",
     "exception": false,
     "start_time": "2024-04-01T12:06:29.848251",
     "status": "completed"
    },
    "tags": []
   },
   "outputs": [
    {
     "data": {
      "text/plain": [
       "2"
      ]
     },
     "execution_count": 4,
     "metadata": {},
     "output_type": "execute_result"
    }
   ],
   "source": [
    "# Adição\n",
    "1 + 1"
   ]
  },
  {
   "cell_type": "code",
   "execution_count": 5,
   "id": "637cb422",
   "metadata": {
    "execution": {
     "iopub.execute_input": "2024-04-01T12:06:29.881289Z",
     "iopub.status.busy": "2024-04-01T12:06:29.880659Z",
     "iopub.status.idle": "2024-04-01T12:06:29.886691Z",
     "shell.execute_reply": "2024-04-01T12:06:29.885639Z"
    },
    "papermill": {
     "duration": 0.016751,
     "end_time": "2024-04-01T12:06:29.888904",
     "exception": false,
     "start_time": "2024-04-01T12:06:29.872153",
     "status": "completed"
    },
    "tags": []
   },
   "outputs": [
    {
     "data": {
      "text/plain": [
       "1"
      ]
     },
     "execution_count": 5,
     "metadata": {},
     "output_type": "execute_result"
    }
   ],
   "source": [
    "# Subtração\n",
    "2 - 1"
   ]
  },
  {
   "cell_type": "code",
   "execution_count": 6,
   "id": "0a7180f5",
   "metadata": {
    "execution": {
     "iopub.execute_input": "2024-04-01T12:06:29.906781Z",
     "iopub.status.busy": "2024-04-01T12:06:29.906359Z",
     "iopub.status.idle": "2024-04-01T12:06:29.913018Z",
     "shell.execute_reply": "2024-04-01T12:06:29.911954Z"
    },
    "papermill": {
     "duration": 0.018697,
     "end_time": "2024-04-01T12:06:29.915275",
     "exception": false,
     "start_time": "2024-04-01T12:06:29.896578",
     "status": "completed"
    },
    "tags": []
   },
   "outputs": [
    {
     "data": {
      "text/plain": [
       "4"
      ]
     },
     "execution_count": 6,
     "metadata": {},
     "output_type": "execute_result"
    }
   ],
   "source": [
    "# Multiplicação\n",
    "2 * 2"
   ]
  },
  {
   "cell_type": "code",
   "execution_count": 7,
   "id": "d08c5abd",
   "metadata": {
    "execution": {
     "iopub.execute_input": "2024-04-01T12:06:29.932205Z",
     "iopub.status.busy": "2024-04-01T12:06:29.931758Z",
     "iopub.status.idle": "2024-04-01T12:06:29.938227Z",
     "shell.execute_reply": "2024-04-01T12:06:29.937153Z"
    },
    "papermill": {
     "duration": 0.018003,
     "end_time": "2024-04-01T12:06:29.940672",
     "exception": false,
     "start_time": "2024-04-01T12:06:29.922669",
     "status": "completed"
    },
    "tags": []
   },
   "outputs": [
    {
     "data": {
      "text/plain": [
       "1.5"
      ]
     },
     "execution_count": 7,
     "metadata": {},
     "output_type": "execute_result"
    }
   ],
   "source": [
    "# Divisão\n",
    "3 / 2"
   ]
  },
  {
   "cell_type": "code",
   "execution_count": 8,
   "id": "7b44c5ad",
   "metadata": {
    "execution": {
     "iopub.execute_input": "2024-04-01T12:06:29.958020Z",
     "iopub.status.busy": "2024-04-01T12:06:29.957554Z",
     "iopub.status.idle": "2024-04-01T12:06:29.963921Z",
     "shell.execute_reply": "2024-04-01T12:06:29.962907Z"
    },
    "papermill": {
     "duration": 0.017804,
     "end_time": "2024-04-01T12:06:29.966171",
     "exception": false,
     "start_time": "2024-04-01T12:06:29.948367",
     "status": "completed"
    },
    "tags": []
   },
   "outputs": [
    {
     "data": {
      "text/plain": [
       "16"
      ]
     },
     "execution_count": 8,
     "metadata": {},
     "output_type": "execute_result"
    }
   ],
   "source": [
    "# Potência\n",
    "4 ** 2"
   ]
  },
  {
   "cell_type": "code",
   "execution_count": 9,
   "id": "9dd1ea4a",
   "metadata": {
    "execution": {
     "iopub.execute_input": "2024-04-01T12:06:29.983679Z",
     "iopub.status.busy": "2024-04-01T12:06:29.983270Z",
     "iopub.status.idle": "2024-04-01T12:06:29.990412Z",
     "shell.execute_reply": "2024-04-01T12:06:29.989301Z"
    },
    "papermill": {
     "duration": 0.018786,
     "end_time": "2024-04-01T12:06:29.992876",
     "exception": false,
     "start_time": "2024-04-01T12:06:29.974090",
     "status": "completed"
    },
    "tags": []
   },
   "outputs": [
    {
     "data": {
      "text/plain": [
       "1"
      ]
     },
     "execution_count": 9,
     "metadata": {},
     "output_type": "execute_result"
    }
   ],
   "source": [
    "# Módulo (resto da divisão)\n",
    "10 % 3"
   ]
  },
  {
   "cell_type": "markdown",
   "id": "d7a3bcdc",
   "metadata": {
    "papermill": {
     "duration": 0.008165,
     "end_time": "2024-04-01T12:06:30.008960",
     "exception": false,
     "start_time": "2024-04-01T12:06:30.000795",
     "status": "completed"
    },
    "tags": []
   },
   "source": [
    "#### Tipo de Dados (Type)"
   ]
  },
  {
   "cell_type": "code",
   "execution_count": 10,
   "id": "87e595cf",
   "metadata": {
    "execution": {
     "iopub.execute_input": "2024-04-01T12:06:30.026944Z",
     "iopub.status.busy": "2024-04-01T12:06:30.025785Z",
     "iopub.status.idle": "2024-04-01T12:06:30.032485Z",
     "shell.execute_reply": "2024-04-01T12:06:30.031661Z"
    },
    "papermill": {
     "duration": 0.017747,
     "end_time": "2024-04-01T12:06:30.034530",
     "exception": false,
     "start_time": "2024-04-01T12:06:30.016783",
     "status": "completed"
    },
    "tags": []
   },
   "outputs": [
    {
     "data": {
      "text/plain": [
       "int"
      ]
     },
     "execution_count": 10,
     "metadata": {},
     "output_type": "execute_result"
    }
   ],
   "source": [
    "# Qual o tipo do (?) -> Inteiro\n",
    "type(5)"
   ]
  },
  {
   "cell_type": "code",
   "execution_count": 11,
   "id": "a0eebca0",
   "metadata": {
    "execution": {
     "iopub.execute_input": "2024-04-01T12:06:30.052920Z",
     "iopub.status.busy": "2024-04-01T12:06:30.051734Z",
     "iopub.status.idle": "2024-04-01T12:06:30.058809Z",
     "shell.execute_reply": "2024-04-01T12:06:30.057472Z"
    },
    "papermill": {
     "duration": 0.018699,
     "end_time": "2024-04-01T12:06:30.061197",
     "exception": false,
     "start_time": "2024-04-01T12:06:30.042498",
     "status": "completed"
    },
    "tags": []
   },
   "outputs": [
    {
     "data": {
      "text/plain": [
       "float"
      ]
     },
     "execution_count": 11,
     "metadata": {},
     "output_type": "execute_result"
    }
   ],
   "source": [
    "# Qual o tipo do (?) -> Float - Decimal\n",
    "type(5.0)"
   ]
  },
  {
   "cell_type": "code",
   "execution_count": 12,
   "id": "2b226426",
   "metadata": {
    "execution": {
     "iopub.execute_input": "2024-04-01T12:06:30.079081Z",
     "iopub.status.busy": "2024-04-01T12:06:30.078649Z",
     "iopub.status.idle": "2024-04-01T12:06:30.085199Z",
     "shell.execute_reply": "2024-04-01T12:06:30.084375Z"
    },
    "papermill": {
     "duration": 0.017963,
     "end_time": "2024-04-01T12:06:30.087262",
     "exception": false,
     "start_time": "2024-04-01T12:06:30.069299",
     "status": "completed"
    },
    "tags": []
   },
   "outputs": [
    {
     "data": {
      "text/plain": [
       "str"
      ]
     },
     "execution_count": 12,
     "metadata": {},
     "output_type": "execute_result"
    }
   ],
   "source": [
    "# Qual o tipo do (?) -> String\n",
    "a = 'Estudando Python!'\n",
    "type(a)"
   ]
  },
  {
   "cell_type": "markdown",
   "id": "8f2ebaae",
   "metadata": {
    "papermill": {
     "duration": 0.007707,
     "end_time": "2024-04-01T12:06:30.103070",
     "exception": false,
     "start_time": "2024-04-01T12:06:30.095363",
     "status": "completed"
    },
    "tags": []
   },
   "source": [
    "#### Condicional if"
   ]
  },
  {
   "cell_type": "code",
   "execution_count": 13,
   "id": "4c87072d",
   "metadata": {
    "execution": {
     "iopub.execute_input": "2024-04-01T12:06:30.121014Z",
     "iopub.status.busy": "2024-04-01T12:06:30.120560Z",
     "iopub.status.idle": "2024-04-01T12:06:30.125905Z",
     "shell.execute_reply": "2024-04-01T12:06:30.125090Z"
    },
    "papermill": {
     "duration": 0.017053,
     "end_time": "2024-04-01T12:06:30.128246",
     "exception": false,
     "start_time": "2024-04-01T12:06:30.111193",
     "status": "completed"
    },
    "tags": []
   },
   "outputs": [
    {
     "name": "stdout",
     "output_type": "stream",
     "text": [
      "A sentença é verdadeira!\n"
     ]
    }
   ],
   "source": [
    "# Condicional if (Se)\n",
    "if 5 > 2:\n",
    "    print(\"A sentença é verdadeira!\")"
   ]
  },
  {
   "cell_type": "code",
   "execution_count": 14,
   "id": "897000a3",
   "metadata": {
    "execution": {
     "iopub.execute_input": "2024-04-01T12:06:30.146672Z",
     "iopub.status.busy": "2024-04-01T12:06:30.146223Z",
     "iopub.status.idle": "2024-04-01T12:06:30.152252Z",
     "shell.execute_reply": "2024-04-01T12:06:30.151105Z"
    },
    "papermill": {
     "duration": 0.018148,
     "end_time": "2024-04-01T12:06:30.154541",
     "exception": false,
     "start_time": "2024-04-01T12:06:30.136393",
     "status": "completed"
    },
    "tags": []
   },
   "outputs": [
    {
     "name": "stdout",
     "output_type": "stream",
     "text": [
      "A sentença é falsa!\n"
     ]
    }
   ],
   "source": [
    "# Condicional if...else\n",
    "if 5 < 2:\n",
    "    print(\"A sentença é verdadeira!\")\n",
    "else:\n",
    "    print(\"A sentença é falsa!\")"
   ]
  },
  {
   "cell_type": "code",
   "execution_count": 15,
   "id": "0cefdbfa",
   "metadata": {
    "execution": {
     "iopub.execute_input": "2024-04-01T12:06:30.173368Z",
     "iopub.status.busy": "2024-04-01T12:06:30.172970Z",
     "iopub.status.idle": "2024-04-01T12:06:30.178018Z",
     "shell.execute_reply": "2024-04-01T12:06:30.177222Z"
    },
    "papermill": {
     "duration": 0.016987,
     "end_time": "2024-04-01T12:06:30.180319",
     "exception": false,
     "start_time": "2024-04-01T12:06:30.163332",
     "status": "completed"
    },
    "tags": []
   },
   "outputs": [
    {
     "name": "stdout",
     "output_type": "stream",
     "text": [
      "Hoje vai chover!\n"
     ]
    }
   ],
   "source": [
    "# Condicional if...else com variável\n",
    "dia = \"Quarta-feira\"\n",
    "if dia == \"Sexta-feira\":\n",
    "    print(\"Hoje fará sol!\")\n",
    "else:\n",
    "    print(\"Hoje vai chover!\")"
   ]
  },
  {
   "cell_type": "markdown",
   "id": "62727e50",
   "metadata": {
    "papermill": {
     "duration": 0.00782,
     "end_time": "2024-04-01T12:06:30.196479",
     "exception": false,
     "start_time": "2024-04-01T12:06:30.188659",
     "status": "completed"
    },
    "tags": []
   },
   "source": [
    "#### Manipulando arquivos"
   ]
  },
  {
   "cell_type": "markdown",
   "id": "3fbe3220",
   "metadata": {
    "papermill": {
     "duration": 0.009474,
     "end_time": "2024-04-01T12:06:30.214155",
     "exception": false,
     "start_time": "2024-04-01T12:06:30.204681",
     "status": "completed"
    },
    "tags": []
   },
   "source": [
    "#### Lendo arquivos (.txt)"
   ]
  },
  {
   "cell_type": "code",
   "execution_count": 16,
   "id": "d1b2f69c",
   "metadata": {
    "execution": {
     "iopub.execute_input": "2024-04-01T12:06:30.232381Z",
     "iopub.status.busy": "2024-04-01T12:06:30.231989Z",
     "iopub.status.idle": "2024-04-01T12:06:30.243468Z",
     "shell.execute_reply": "2024-04-01T12:06:30.242222Z"
    },
    "papermill": {
     "duration": 0.023868,
     "end_time": "2024-04-01T12:06:30.246222",
     "exception": false,
     "start_time": "2024-04-01T12:06:30.222354",
     "status": "completed"
    },
    "tags": []
   },
   "outputs": [],
   "source": [
    "# Abrindo o arquivo para leitura\n",
    "a1 = open(\"/kaggle/input/arquivo-aula-4/arquivo1.txt\", \"r\")"
   ]
  },
  {
   "cell_type": "code",
   "execution_count": 17,
   "id": "0fb3fef4",
   "metadata": {
    "execution": {
     "iopub.execute_input": "2024-04-01T12:06:30.264974Z",
     "iopub.status.busy": "2024-04-01T12:06:30.264586Z",
     "iopub.status.idle": "2024-04-01T12:06:30.274095Z",
     "shell.execute_reply": "2024-04-01T12:06:30.272663Z"
    },
    "papermill": {
     "duration": 0.021714,
     "end_time": "2024-04-01T12:06:30.276422",
     "exception": false,
     "start_time": "2024-04-01T12:06:30.254708",
     "status": "completed"
    },
    "tags": []
   },
   "outputs": [
    {
     "name": "stdout",
     "output_type": "stream",
     "text": [
      "Seja bem-vindo em LIA1 - 2024/1 - 25/03!\n"
     ]
    }
   ],
   "source": [
    "# Lendo o arquivo\n",
    "print(a1.read())"
   ]
  },
  {
   "cell_type": "markdown",
   "id": "4b1708a7",
   "metadata": {
    "papermill": {
     "duration": 0.008277,
     "end_time": "2024-04-01T12:06:30.293020",
     "exception": false,
     "start_time": "2024-04-01T12:06:30.284743",
     "status": "completed"
    },
    "tags": []
   },
   "source": [
    "#### Gravando arquivos (.txt)"
   ]
  },
  {
   "cell_type": "code",
   "execution_count": 18,
   "id": "4c272781",
   "metadata": {
    "execution": {
     "iopub.execute_input": "2024-04-01T12:06:30.312220Z",
     "iopub.status.busy": "2024-04-01T12:06:30.311083Z",
     "iopub.status.idle": "2024-04-01T12:06:30.316585Z",
     "shell.execute_reply": "2024-04-01T12:06:30.315712Z"
    },
    "papermill": {
     "duration": 0.017552,
     "end_time": "2024-04-01T12:06:30.318961",
     "exception": false,
     "start_time": "2024-04-01T12:06:30.301409",
     "status": "completed"
    },
    "tags": []
   },
   "outputs": [],
   "source": [
    "# Abrindo o arquivo para gravação\n",
    "a2 = open(\"/kaggle/working/arquivo2.txt\", \"w\")"
   ]
  },
  {
   "cell_type": "code",
   "execution_count": 19,
   "id": "7f6f99a5",
   "metadata": {
    "execution": {
     "iopub.execute_input": "2024-04-01T12:06:30.338459Z",
     "iopub.status.busy": "2024-04-01T12:06:30.337373Z",
     "iopub.status.idle": "2024-04-01T12:06:30.344514Z",
     "shell.execute_reply": "2024-04-01T12:06:30.343429Z"
    },
    "papermill": {
     "duration": 0.019412,
     "end_time": "2024-04-01T12:06:30.347044",
     "exception": false,
     "start_time": "2024-04-01T12:06:30.327632",
     "status": "completed"
    },
    "tags": []
   },
   "outputs": [
    {
     "data": {
      "text/plain": [
       "59"
      ]
     },
     "execution_count": 19,
     "metadata": {},
     "output_type": "execute_result"
    }
   ],
   "source": [
    "# Gravando no arquivo\n",
    "a2.write(\"Aprendendo Python em 2024/1 ao som de um cortador de grama!\")"
   ]
  },
  {
   "cell_type": "code",
   "execution_count": 20,
   "id": "a4a55484",
   "metadata": {
    "execution": {
     "iopub.execute_input": "2024-04-01T12:06:30.366106Z",
     "iopub.status.busy": "2024-04-01T12:06:30.365710Z",
     "iopub.status.idle": "2024-04-01T12:06:30.370688Z",
     "shell.execute_reply": "2024-04-01T12:06:30.369606Z"
    },
    "papermill": {
     "duration": 0.017236,
     "end_time": "2024-04-01T12:06:30.372888",
     "exception": false,
     "start_time": "2024-04-01T12:06:30.355652",
     "status": "completed"
    },
    "tags": []
   },
   "outputs": [],
   "source": [
    "# Abrindo o arquivo para leitura\n",
    "a2 = open(\"/kaggle/working/arquivo2.txt\", \"r\")"
   ]
  },
  {
   "cell_type": "code",
   "execution_count": 21,
   "id": "d203e78c",
   "metadata": {
    "execution": {
     "iopub.execute_input": "2024-04-01T12:06:30.391789Z",
     "iopub.status.busy": "2024-04-01T12:06:30.391372Z",
     "iopub.status.idle": "2024-04-01T12:06:30.397159Z",
     "shell.execute_reply": "2024-04-01T12:06:30.395880Z"
    },
    "papermill": {
     "duration": 0.018152,
     "end_time": "2024-04-01T12:06:30.399569",
     "exception": false,
     "start_time": "2024-04-01T12:06:30.381417",
     "status": "completed"
    },
    "tags": []
   },
   "outputs": [
    {
     "name": "stdout",
     "output_type": "stream",
     "text": [
      "Aprendendo Python em 2024/1 ao som de um cortador de grama!\n"
     ]
    }
   ],
   "source": [
    "# Imprimindo arquivo\n",
    "print(a2.read())"
   ]
  },
  {
   "cell_type": "code",
   "execution_count": null,
   "id": "3b6c8eaf",
   "metadata": {
    "papermill": {
     "duration": 0.008354,
     "end_time": "2024-04-01T12:06:30.416710",
     "exception": false,
     "start_time": "2024-04-01T12:06:30.408356",
     "status": "completed"
    },
    "tags": []
   },
   "outputs": [],
   "source": []
  }
 ],
 "metadata": {
  "kaggle": {
   "accelerator": "none",
   "dataSources": [
    {
     "datasetId": 4680269,
     "sourceId": 7957084,
     "sourceType": "datasetVersion"
    }
   ],
   "dockerImageVersionId": 30673,
   "isGpuEnabled": false,
   "isInternetEnabled": false,
   "language": "python",
   "sourceType": "notebook"
  },
  "kernelspec": {
   "display_name": "Python 3",
   "language": "python",
   "name": "python3"
  },
  "language_info": {
   "codemirror_mode": {
    "name": "ipython",
    "version": 3
   },
   "file_extension": ".py",
   "mimetype": "text/x-python",
   "name": "python",
   "nbconvert_exporter": "python",
   "pygments_lexer": "ipython3",
   "version": "3.10.13"
  },
  "papermill": {
   "default_parameters": {},
   "duration": 7.159088,
   "end_time": "2024-04-01T12:06:33.850819",
   "environment_variables": {},
   "exception": null,
   "input_path": "__notebook__.ipynb",
   "output_path": "__notebook__.ipynb",
   "parameters": {},
   "start_time": "2024-04-01T12:06:26.691731",
   "version": "2.5.0"
  }
 },
 "nbformat": 4,
 "nbformat_minor": 5
}
